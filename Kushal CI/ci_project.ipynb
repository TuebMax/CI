{
  "cells": [
    {
      "cell_type": "markdown",
      "id": "9c95cd10-a96e-408d-aab0-8ec5c445412d",
      "metadata": {
        "id": "9c95cd10-a96e-408d-aab0-8ec5c445412d"
      },
      "source": [
        "![image.png](attachment:56bba98f-c30c-4d37-90cf-fb5fc0153ad1.png)"
      ]
    },
    {
      "cell_type": "markdown",
      "id": "fb3f2143-ec96-4226-8504-3b0829bb7479",
      "metadata": {
        "id": "fb3f2143-ec96-4226-8504-3b0829bb7479"
      },
      "source": [
        "# **Computational Immunomics 2023**"
      ]
    },
    {
      "cell_type": "markdown",
      "id": "4863ba96-0b8e-4afc-aa8f-00dcdea5128c",
      "metadata": {
        "id": "4863ba96-0b8e-4afc-aa8f-00dcdea5128c"
      },
      "source": [
        "Interfakultäres Institut für Biomedizinische Informatik (IBMI)\n",
        "\n",
        "Prof. Dr. Oliver Kohlbacher\n",
        "\n",
        "Tutors:\n",
        "Alexander Röhl, Matteo Pilz\n",
        "\n",
        "ci-ss23@informatik.uni-tuebingen.de"
      ]
    },
    {
      "cell_type": "markdown",
      "id": "cd15b314-4be9-4ff1-91cf-e34d5bbbe584",
      "metadata": {
        "id": "cd15b314-4be9-4ff1-91cf-e34d5bbbe584"
      },
      "source": [
        "# **INFORMATION**"
      ]
    },
    {
      "cell_type": "markdown",
      "id": "d1ee7c69-b118-4ebc-9601-cbaba7cf43c7",
      "metadata": {
        "id": "d1ee7c69-b118-4ebc-9601-cbaba7cf43c7"
      },
      "source": [
        "You should work in groups of 3 to 4 on the project, please write your names here:\n",
        "1. \\<name_1\\>\n",
        "2. \\<name_2\\>\n",
        "3. \\<name_3\\>\n",
        "4. \\<name_4\\>\n",
        "\n",
        "You are allowed to write in german or english.\n",
        "Your hand in should be zipped and the archive should follow the naming convention:\n",
        "project_\\<name_1\\>_\\<name_2\\>_\\<name_3\\>_\\<name_4\\>.zip\\\n",
        "Example: project_weber_mueller_muster_sommer.zip\n",
        "\n",
        "Finally, upload your zip file containing all important files to ILIAS.\n",
        "\n",
        "Tip: You can use some LaTex commands (rendered with MathJax) in math mode: $\\alpha$"
      ]
    },
    {
      "cell_type": "markdown",
      "id": "30fc8562-efa2-4517-ae07-b0c2b459ba01",
      "metadata": {
        "id": "30fc8562-efa2-4517-ae07-b0c2b459ba01"
      },
      "source": [
        "# **Project (100P + 5BP) - Hand In: Thursday July 20, 11:55 pm**\n",
        "\n",
        "This project applies the practical knowledge you gained on machine learning during the lecture and the assignments of this course.\n",
        "Your task is to implement a MHC I-binding predictor with a prediction as accurate as possible. You may thereby use any method, model, or strategy, which you implemented using any python library.\n",
        "However, you are not allowed to simply load in and use an existing predictor. Copying the code from one is also not allowed and will, without citation, be counted as plagiarism. You are free to **adopt** existing implementations (please cite accordingly) and orientate yourself on published models regarding structure and parameters.\n",
        "\n",
        "Feel free to also make use of the following potential work plan.\n",
        "\n",
        "## <h2><center>Dates \\& Potential Work Plan</center></h2>\n",
        "\n",
        "| **Date**         | **Task**                                                                                                          |\n",
        "|------------------|-------------------------------------------------------------------------------------------------------------------|\n",
        "| June 13 - Week 1 | **Project handout**, research / familiarize yourself with the Python libraries                                    |\n",
        "| June 20          | **[Group assignment](#group_assignment) 11:55 pm**, Assign yourself to one of the groups in ILIAS                 |\n",
        "| June 22 - Week 2 | Choose an appropriate [encoding](#encoding)                                                                       |\n",
        "| June 29 - Week 3 | Create [model](#model) drafts                                                                                     |\n",
        "| July 06 - Week 4 | [Optimize](#optimization) your model by using a cross-validation pipeline                                         |\n",
        "| July 13 - Week 5 | Finish the [optimization](#optimization), write the [prediction output](#output) function & write-up your project |\n",
        "| July 20 - Week 6 | **Project handin 11:55 pm**, prepare presentation                                                                 |\n",
        "| July 27          | **[Project presentation](#presentation)**                                                                         |\n",
        "| August 03        | **Written exam**                                                                                                  |"
      ]
    },
    {
      "cell_type": "markdown",
      "id": "b4f75cea-665e-46ba-a239-a56f7aad2568",
      "metadata": {
        "id": "b4f75cea-665e-46ba-a239-a56f7aad2568"
      },
      "source": [
        "<a id='group_assignment'></a>\n",
        "\n",
        "## **Group Assignment - Tuesday June 20, 11:55 pm**\n",
        "Assign yourself to one of the groups in the Computational Immunomics workspace in ILIAS under */Exercises/Project*. Make sure you and the rest of your group assign yourself to the same group. Joining and leaving a group in ILIAS is possible until Tuesday June 20 11:55 pm."
      ]
    },
    {
      "cell_type": "markdown",
      "id": "8460e550-e11b-4a9e-8f08-8b3c0f62d7cb",
      "metadata": {
        "tags": [],
        "id": "8460e550-e11b-4a9e-8f08-8b3c0f62d7cb"
      },
      "source": [
        "---\n",
        "## **1. Input**\n",
        "You are given a dataset with labeled datapoints as training data in `ci_project_data.csv`. The dataset contains four columns: `sequence`, `label`, `length` and `affinity`. The labels are `0 == non binder` and `1 == binder` (classification), the `affinity` is the binding affinity from 0-1, which you may use as an alternative (regression). Use this data wisely in order to fulfill the requirements of the project. At the end, make sure that your selected model is trained on the full dataset \\*, before you use it for prediction.\n",
        "\n",
        "### **Bonus (5BP)**\n",
        "\\* The dataset does not only contain peptides with length 9, but also shorter and longer ones. Find a suitable way to encode these peptides (in [2. Encoding](#encoding)) and use them in your training, too. If you don't want to do this task, you can simply filter out all peptides that do not have length 9 (the remaining number of sequences should be 7176)."
      ]
    },
    {
      "cell_type": "code",
      "execution_count": 1,
      "id": "58543b29-7395-4250-beb1-638f9bef2d95",
      "metadata": {
        "colab": {
          "base_uri": "https://localhost:8080/"
        },
        "id": "58543b29-7395-4250-beb1-638f9bef2d95",
        "outputId": "e6b09bf8-8743-4267-880b-7eea824287c1"
      },
      "outputs": [
        {
          "output_type": "stream",
          "name": "stdout",
          "text": [
            "Requirement already satisfied: pandas in /usr/local/lib/python3.10/dist-packages (1.5.3)\n",
            "Requirement already satisfied: python-dateutil>=2.8.1 in /usr/local/lib/python3.10/dist-packages (from pandas) (2.8.2)\n",
            "Requirement already satisfied: pytz>=2020.1 in /usr/local/lib/python3.10/dist-packages (from pandas) (2022.7.1)\n",
            "Requirement already satisfied: numpy>=1.21.0 in /usr/local/lib/python3.10/dist-packages (from pandas) (1.22.4)\n",
            "Requirement already satisfied: six>=1.5 in /usr/local/lib/python3.10/dist-packages (from python-dateutil>=2.8.1->pandas) (1.16.0)\n",
            "Requirement already satisfied: numpy in /usr/local/lib/python3.10/dist-packages (1.22.4)\n",
            "Requirement already satisfied: scikit-learn in /usr/local/lib/python3.10/dist-packages (1.2.2)\n",
            "Requirement already satisfied: numpy>=1.17.3 in /usr/local/lib/python3.10/dist-packages (from scikit-learn) (1.22.4)\n",
            "Requirement already satisfied: scipy>=1.3.2 in /usr/local/lib/python3.10/dist-packages (from scikit-learn) (1.10.1)\n",
            "Requirement already satisfied: joblib>=1.1.1 in /usr/local/lib/python3.10/dist-packages (from scikit-learn) (1.3.1)\n",
            "Requirement already satisfied: threadpoolctl>=2.0.0 in /usr/local/lib/python3.10/dist-packages (from scikit-learn) (3.1.0)\n",
            "Requirement already satisfied: tensorflow in /usr/local/lib/python3.10/dist-packages (2.12.0)\n",
            "Requirement already satisfied: absl-py>=1.0.0 in /usr/local/lib/python3.10/dist-packages (from tensorflow) (1.4.0)\n",
            "Requirement already satisfied: astunparse>=1.6.0 in /usr/local/lib/python3.10/dist-packages (from tensorflow) (1.6.3)\n",
            "Requirement already satisfied: flatbuffers>=2.0 in /usr/local/lib/python3.10/dist-packages (from tensorflow) (23.5.26)\n",
            "Requirement already satisfied: gast<=0.4.0,>=0.2.1 in /usr/local/lib/python3.10/dist-packages (from tensorflow) (0.4.0)\n",
            "Requirement already satisfied: google-pasta>=0.1.1 in /usr/local/lib/python3.10/dist-packages (from tensorflow) (0.2.0)\n",
            "Requirement already satisfied: grpcio<2.0,>=1.24.3 in /usr/local/lib/python3.10/dist-packages (from tensorflow) (1.56.0)\n",
            "Requirement already satisfied: h5py>=2.9.0 in /usr/local/lib/python3.10/dist-packages (from tensorflow) (3.8.0)\n",
            "Requirement already satisfied: jax>=0.3.15 in /usr/local/lib/python3.10/dist-packages (from tensorflow) (0.4.13)\n",
            "Requirement already satisfied: keras<2.13,>=2.12.0 in /usr/local/lib/python3.10/dist-packages (from tensorflow) (2.12.0)\n",
            "Requirement already satisfied: libclang>=13.0.0 in /usr/local/lib/python3.10/dist-packages (from tensorflow) (16.0.0)\n",
            "Requirement already satisfied: numpy<1.24,>=1.22 in /usr/local/lib/python3.10/dist-packages (from tensorflow) (1.22.4)\n",
            "Requirement already satisfied: opt-einsum>=2.3.2 in /usr/local/lib/python3.10/dist-packages (from tensorflow) (3.3.0)\n",
            "Requirement already satisfied: packaging in /usr/local/lib/python3.10/dist-packages (from tensorflow) (23.1)\n",
            "Requirement already satisfied: protobuf!=4.21.0,!=4.21.1,!=4.21.2,!=4.21.3,!=4.21.4,!=4.21.5,<5.0.0dev,>=3.20.3 in /usr/local/lib/python3.10/dist-packages (from tensorflow) (3.20.3)\n",
            "Requirement already satisfied: setuptools in /usr/local/lib/python3.10/dist-packages (from tensorflow) (67.7.2)\n",
            "Requirement already satisfied: six>=1.12.0 in /usr/local/lib/python3.10/dist-packages (from tensorflow) (1.16.0)\n",
            "Requirement already satisfied: tensorboard<2.13,>=2.12 in /usr/local/lib/python3.10/dist-packages (from tensorflow) (2.12.3)\n",
            "Requirement already satisfied: tensorflow-estimator<2.13,>=2.12.0 in /usr/local/lib/python3.10/dist-packages (from tensorflow) (2.12.0)\n",
            "Requirement already satisfied: termcolor>=1.1.0 in /usr/local/lib/python3.10/dist-packages (from tensorflow) (2.3.0)\n",
            "Requirement already satisfied: typing-extensions>=3.6.6 in /usr/local/lib/python3.10/dist-packages (from tensorflow) (4.7.1)\n",
            "Requirement already satisfied: wrapt<1.15,>=1.11.0 in /usr/local/lib/python3.10/dist-packages (from tensorflow) (1.14.1)\n",
            "Requirement already satisfied: tensorflow-io-gcs-filesystem>=0.23.1 in /usr/local/lib/python3.10/dist-packages (from tensorflow) (0.32.0)\n",
            "Requirement already satisfied: wheel<1.0,>=0.23.0 in /usr/local/lib/python3.10/dist-packages (from astunparse>=1.6.0->tensorflow) (0.40.0)\n",
            "Requirement already satisfied: ml-dtypes>=0.1.0 in /usr/local/lib/python3.10/dist-packages (from jax>=0.3.15->tensorflow) (0.2.0)\n",
            "Requirement already satisfied: scipy>=1.7 in /usr/local/lib/python3.10/dist-packages (from jax>=0.3.15->tensorflow) (1.10.1)\n",
            "Requirement already satisfied: google-auth<3,>=1.6.3 in /usr/local/lib/python3.10/dist-packages (from tensorboard<2.13,>=2.12->tensorflow) (2.17.3)\n",
            "Requirement already satisfied: google-auth-oauthlib<1.1,>=0.5 in /usr/local/lib/python3.10/dist-packages (from tensorboard<2.13,>=2.12->tensorflow) (1.0.0)\n",
            "Requirement already satisfied: markdown>=2.6.8 in /usr/local/lib/python3.10/dist-packages (from tensorboard<2.13,>=2.12->tensorflow) (3.4.3)\n",
            "Requirement already satisfied: requests<3,>=2.21.0 in /usr/local/lib/python3.10/dist-packages (from tensorboard<2.13,>=2.12->tensorflow) (2.27.1)\n",
            "Requirement already satisfied: tensorboard-data-server<0.8.0,>=0.7.0 in /usr/local/lib/python3.10/dist-packages (from tensorboard<2.13,>=2.12->tensorflow) (0.7.1)\n",
            "Requirement already satisfied: werkzeug>=1.0.1 in /usr/local/lib/python3.10/dist-packages (from tensorboard<2.13,>=2.12->tensorflow) (2.3.6)\n",
            "Requirement already satisfied: cachetools<6.0,>=2.0.0 in /usr/local/lib/python3.10/dist-packages (from google-auth<3,>=1.6.3->tensorboard<2.13,>=2.12->tensorflow) (5.3.1)\n",
            "Requirement already satisfied: pyasn1-modules>=0.2.1 in /usr/local/lib/python3.10/dist-packages (from google-auth<3,>=1.6.3->tensorboard<2.13,>=2.12->tensorflow) (0.3.0)\n",
            "Requirement already satisfied: rsa<5,>=3.1.4 in /usr/local/lib/python3.10/dist-packages (from google-auth<3,>=1.6.3->tensorboard<2.13,>=2.12->tensorflow) (4.9)\n",
            "Requirement already satisfied: requests-oauthlib>=0.7.0 in /usr/local/lib/python3.10/dist-packages (from google-auth-oauthlib<1.1,>=0.5->tensorboard<2.13,>=2.12->tensorflow) (1.3.1)\n",
            "Requirement already satisfied: urllib3<1.27,>=1.21.1 in /usr/local/lib/python3.10/dist-packages (from requests<3,>=2.21.0->tensorboard<2.13,>=2.12->tensorflow) (1.26.16)\n",
            "Requirement already satisfied: certifi>=2017.4.17 in /usr/local/lib/python3.10/dist-packages (from requests<3,>=2.21.0->tensorboard<2.13,>=2.12->tensorflow) (2023.5.7)\n",
            "Requirement already satisfied: charset-normalizer~=2.0.0 in /usr/local/lib/python3.10/dist-packages (from requests<3,>=2.21.0->tensorboard<2.13,>=2.12->tensorflow) (2.0.12)\n",
            "Requirement already satisfied: idna<4,>=2.5 in /usr/local/lib/python3.10/dist-packages (from requests<3,>=2.21.0->tensorboard<2.13,>=2.12->tensorflow) (3.4)\n",
            "Requirement already satisfied: MarkupSafe>=2.1.1 in /usr/local/lib/python3.10/dist-packages (from werkzeug>=1.0.1->tensorboard<2.13,>=2.12->tensorflow) (2.1.3)\n",
            "Requirement already satisfied: pyasn1<0.6.0,>=0.4.6 in /usr/local/lib/python3.10/dist-packages (from pyasn1-modules>=0.2.1->google-auth<3,>=1.6.3->tensorboard<2.13,>=2.12->tensorflow) (0.5.0)\n",
            "Requirement already satisfied: oauthlib>=3.0.0 in /usr/local/lib/python3.10/dist-packages (from requests-oauthlib>=0.7.0->google-auth-oauthlib<1.1,>=0.5->tensorboard<2.13,>=2.12->tensorflow) (3.2.2)\n"
          ]
        }
      ],
      "source": [
        "\n",
        "!pip install pandas\n",
        "!pip install numpy\n",
        "!pip install scikit-learn\n",
        "!pip install tensorflow\n",
        "\n",
        "import pandas as pd\n",
        "import numpy as np\n",
        "import matplotlib.pyplot as plt\n",
        "\n",
        "from sklearn.preprocessing import LabelEncoder\n",
        "\n",
        "from sklearn import svm\n",
        "from sklearn.ensemble import GradientBoostingClassifier\n",
        "from sklearn.ensemble import RandomForestClassifier\n",
        "from sklearn.linear_model import LogisticRegression\n",
        "from sklearn.neighbors import KNeighborsClassifier\n",
        "\n",
        "from tensorflow.keras.models import Sequential\n",
        "from tensorflow.keras.layers import Dense\n",
        "\n",
        "from sklearn.model_selection import train_test_split\n",
        "from sklearn.metrics import classification_report\n",
        "from sklearn.metrics import roc_curve,auc\n",
        "\n",
        "from sklearn.model_selection import GridSearchCV\n",
        "from sklearn.model_selection import RandomizedSearchCV\n",
        "\n"
      ]
    },
    {
      "cell_type": "code",
      "source": [
        "from sklearn.metrics import roc_curve,auc\n",
        "import matplotlib.pyplot as plt"
      ],
      "metadata": {
        "id": "fPMGJhSMg42V"
      },
      "id": "fPMGJhSMg42V",
      "execution_count": 19,
      "outputs": []
    },
    {
      "cell_type": "code",
      "execution_count": 2,
      "id": "1c4f0de9",
      "metadata": {
        "colab": {
          "base_uri": "https://localhost:8080/",
          "height": 206
        },
        "id": "1c4f0de9",
        "outputId": "aab58078-c56d-482b-b130-f1bb98548611"
      },
      "outputs": [
        {
          "output_type": "execute_result",
          "data": {
            "text/plain": [
              "    sequence  label  length  affinity\n",
              "0  SVFNSLYAX      0       8  0.419718\n",
              "1  YLIRALTLX      0       8  0.407692\n",
              "2  FLTGYLQLX      0       8  0.401746\n",
              "3  ALQLLLEVX      0       8  0.399727\n",
              "4  VLFQNWGIX      0       8  0.376714"
            ],
            "text/html": [
              "\n",
              "\n",
              "  <div id=\"df-1b076c59-6569-45b9-b1c6-9f82a35918cd\">\n",
              "    <div class=\"colab-df-container\">\n",
              "      <div>\n",
              "<style scoped>\n",
              "    .dataframe tbody tr th:only-of-type {\n",
              "        vertical-align: middle;\n",
              "    }\n",
              "\n",
              "    .dataframe tbody tr th {\n",
              "        vertical-align: top;\n",
              "    }\n",
              "\n",
              "    .dataframe thead th {\n",
              "        text-align: right;\n",
              "    }\n",
              "</style>\n",
              "<table border=\"1\" class=\"dataframe\">\n",
              "  <thead>\n",
              "    <tr style=\"text-align: right;\">\n",
              "      <th></th>\n",
              "      <th>sequence</th>\n",
              "      <th>label</th>\n",
              "      <th>length</th>\n",
              "      <th>affinity</th>\n",
              "    </tr>\n",
              "  </thead>\n",
              "  <tbody>\n",
              "    <tr>\n",
              "      <th>0</th>\n",
              "      <td>SVFNSLYAX</td>\n",
              "      <td>0</td>\n",
              "      <td>8</td>\n",
              "      <td>0.419718</td>\n",
              "    </tr>\n",
              "    <tr>\n",
              "      <th>1</th>\n",
              "      <td>YLIRALTLX</td>\n",
              "      <td>0</td>\n",
              "      <td>8</td>\n",
              "      <td>0.407692</td>\n",
              "    </tr>\n",
              "    <tr>\n",
              "      <th>2</th>\n",
              "      <td>FLTGYLQLX</td>\n",
              "      <td>0</td>\n",
              "      <td>8</td>\n",
              "      <td>0.401746</td>\n",
              "    </tr>\n",
              "    <tr>\n",
              "      <th>3</th>\n",
              "      <td>ALQLLLEVX</td>\n",
              "      <td>0</td>\n",
              "      <td>8</td>\n",
              "      <td>0.399727</td>\n",
              "    </tr>\n",
              "    <tr>\n",
              "      <th>4</th>\n",
              "      <td>VLFQNWGIX</td>\n",
              "      <td>0</td>\n",
              "      <td>8</td>\n",
              "      <td>0.376714</td>\n",
              "    </tr>\n",
              "  </tbody>\n",
              "</table>\n",
              "</div>\n",
              "      <button class=\"colab-df-convert\" onclick=\"convertToInteractive('df-1b076c59-6569-45b9-b1c6-9f82a35918cd')\"\n",
              "              title=\"Convert this dataframe to an interactive table.\"\n",
              "              style=\"display:none;\">\n",
              "\n",
              "  <svg xmlns=\"http://www.w3.org/2000/svg\" height=\"24px\"viewBox=\"0 0 24 24\"\n",
              "       width=\"24px\">\n",
              "    <path d=\"M0 0h24v24H0V0z\" fill=\"none\"/>\n",
              "    <path d=\"M18.56 5.44l.94 2.06.94-2.06 2.06-.94-2.06-.94-.94-2.06-.94 2.06-2.06.94zm-11 1L8.5 8.5l.94-2.06 2.06-.94-2.06-.94L8.5 2.5l-.94 2.06-2.06.94zm10 10l.94 2.06.94-2.06 2.06-.94-2.06-.94-.94-2.06-.94 2.06-2.06.94z\"/><path d=\"M17.41 7.96l-1.37-1.37c-.4-.4-.92-.59-1.43-.59-.52 0-1.04.2-1.43.59L10.3 9.45l-7.72 7.72c-.78.78-.78 2.05 0 2.83L4 21.41c.39.39.9.59 1.41.59.51 0 1.02-.2 1.41-.59l7.78-7.78 2.81-2.81c.8-.78.8-2.07 0-2.86zM5.41 20L4 18.59l7.72-7.72 1.47 1.35L5.41 20z\"/>\n",
              "  </svg>\n",
              "      </button>\n",
              "\n",
              "\n",
              "\n",
              "    <div id=\"df-b556b649-5077-4afd-8733-f3dd2b915e55\">\n",
              "      <button class=\"colab-df-quickchart\" onclick=\"quickchart('df-b556b649-5077-4afd-8733-f3dd2b915e55')\"\n",
              "              title=\"Suggest charts.\"\n",
              "              style=\"display:none;\">\n",
              "\n",
              "<svg xmlns=\"http://www.w3.org/2000/svg\" height=\"24px\"viewBox=\"0 0 24 24\"\n",
              "     width=\"24px\">\n",
              "    <g>\n",
              "        <path d=\"M19 3H5c-1.1 0-2 .9-2 2v14c0 1.1.9 2 2 2h14c1.1 0 2-.9 2-2V5c0-1.1-.9-2-2-2zM9 17H7v-7h2v7zm4 0h-2V7h2v10zm4 0h-2v-4h2v4z\"/>\n",
              "    </g>\n",
              "</svg>\n",
              "      </button>\n",
              "    </div>\n",
              "\n",
              "<style>\n",
              "  .colab-df-quickchart {\n",
              "    background-color: #E8F0FE;\n",
              "    border: none;\n",
              "    border-radius: 50%;\n",
              "    cursor: pointer;\n",
              "    display: none;\n",
              "    fill: #1967D2;\n",
              "    height: 32px;\n",
              "    padding: 0 0 0 0;\n",
              "    width: 32px;\n",
              "  }\n",
              "\n",
              "  .colab-df-quickchart:hover {\n",
              "    background-color: #E2EBFA;\n",
              "    box-shadow: 0px 1px 2px rgba(60, 64, 67, 0.3), 0px 1px 3px 1px rgba(60, 64, 67, 0.15);\n",
              "    fill: #174EA6;\n",
              "  }\n",
              "\n",
              "  [theme=dark] .colab-df-quickchart {\n",
              "    background-color: #3B4455;\n",
              "    fill: #D2E3FC;\n",
              "  }\n",
              "\n",
              "  [theme=dark] .colab-df-quickchart:hover {\n",
              "    background-color: #434B5C;\n",
              "    box-shadow: 0px 1px 3px 1px rgba(0, 0, 0, 0.15);\n",
              "    filter: drop-shadow(0px 1px 2px rgba(0, 0, 0, 0.3));\n",
              "    fill: #FFFFFF;\n",
              "  }\n",
              "</style>\n",
              "\n",
              "    <script>\n",
              "      async function quickchart(key) {\n",
              "        const containerElement = document.querySelector('#' + key);\n",
              "        const charts = await google.colab.kernel.invokeFunction(\n",
              "            'suggestCharts', [key], {});\n",
              "      }\n",
              "    </script>\n",
              "\n",
              "      <script>\n",
              "\n",
              "function displayQuickchartButton(domScope) {\n",
              "  let quickchartButtonEl =\n",
              "    domScope.querySelector('#df-b556b649-5077-4afd-8733-f3dd2b915e55 button.colab-df-quickchart');\n",
              "  quickchartButtonEl.style.display =\n",
              "    google.colab.kernel.accessAllowed ? 'block' : 'none';\n",
              "}\n",
              "\n",
              "        displayQuickchartButton(document);\n",
              "      </script>\n",
              "      <style>\n",
              "    .colab-df-container {\n",
              "      display:flex;\n",
              "      flex-wrap:wrap;\n",
              "      gap: 12px;\n",
              "    }\n",
              "\n",
              "    .colab-df-convert {\n",
              "      background-color: #E8F0FE;\n",
              "      border: none;\n",
              "      border-radius: 50%;\n",
              "      cursor: pointer;\n",
              "      display: none;\n",
              "      fill: #1967D2;\n",
              "      height: 32px;\n",
              "      padding: 0 0 0 0;\n",
              "      width: 32px;\n",
              "    }\n",
              "\n",
              "    .colab-df-convert:hover {\n",
              "      background-color: #E2EBFA;\n",
              "      box-shadow: 0px 1px 2px rgba(60, 64, 67, 0.3), 0px 1px 3px 1px rgba(60, 64, 67, 0.15);\n",
              "      fill: #174EA6;\n",
              "    }\n",
              "\n",
              "    [theme=dark] .colab-df-convert {\n",
              "      background-color: #3B4455;\n",
              "      fill: #D2E3FC;\n",
              "    }\n",
              "\n",
              "    [theme=dark] .colab-df-convert:hover {\n",
              "      background-color: #434B5C;\n",
              "      box-shadow: 0px 1px 3px 1px rgba(0, 0, 0, 0.15);\n",
              "      filter: drop-shadow(0px 1px 2px rgba(0, 0, 0, 0.3));\n",
              "      fill: #FFFFFF;\n",
              "    }\n",
              "  </style>\n",
              "\n",
              "      <script>\n",
              "        const buttonEl =\n",
              "          document.querySelector('#df-1b076c59-6569-45b9-b1c6-9f82a35918cd button.colab-df-convert');\n",
              "        buttonEl.style.display =\n",
              "          google.colab.kernel.accessAllowed ? 'block' : 'none';\n",
              "\n",
              "        async function convertToInteractive(key) {\n",
              "          const element = document.querySelector('#df-1b076c59-6569-45b9-b1c6-9f82a35918cd');\n",
              "          const dataTable =\n",
              "            await google.colab.kernel.invokeFunction('convertToInteractive',\n",
              "                                                     [key], {});\n",
              "          if (!dataTable) return;\n",
              "\n",
              "          const docLinkHtml = 'Like what you see? Visit the ' +\n",
              "            '<a target=\"_blank\" href=https://colab.research.google.com/notebooks/data_table.ipynb>data table notebook</a>'\n",
              "            + ' to learn more about interactive tables.';\n",
              "          element.innerHTML = '';\n",
              "          dataTable['output_type'] = 'display_data';\n",
              "          await google.colab.output.renderOutput(dataTable, element);\n",
              "          const docLink = document.createElement('div');\n",
              "          docLink.innerHTML = docLinkHtml;\n",
              "          element.appendChild(docLink);\n",
              "        }\n",
              "      </script>\n",
              "    </div>\n",
              "  </div>\n"
            ]
          },
          "metadata": {},
          "execution_count": 2
        }
      ],
      "source": [
        "#project_data = pd.read_csv('ci_project_train.csv')\n",
        "train_data = pd.read_csv('ci_project_train.csv')\n",
        "test_sample = pd.read_csv('ci_project_test_sample.csv')\n",
        "\n",
        "train_data\n",
        "\n",
        "def adjust_sequence_length(seq, desired_length=9):\n",
        "    if len(seq) == desired_length:\n",
        "        return seq\n",
        "    elif len(seq) < desired_length:\n",
        "        # Padding\n",
        "        return seq + 'X'*(desired_length - len(seq))\n",
        "    else:\n",
        "        # Trimming\n",
        "        excess = len(seq) - desired_length\n",
        "        left_trim = excess // 2\n",
        "        right_trim = excess - left_trim\n",
        "        return seq[left_trim:-right_trim]\n",
        "\n",
        "# Adjust the sequence lengths in the training data\n",
        "train_data['sequence'] = train_data['sequence'].apply(adjust_sequence_length)\n",
        "\n",
        "# Check the first few rows of the data\n",
        "train_data.head()\n"
      ]
    },
    {
      "cell_type": "markdown",
      "id": "c2a4f2f7-8323-4543-b447-aff186228aa1",
      "metadata": {
        "tags": [],
        "id": "c2a4f2f7-8323-4543-b447-aff186228aa1"
      },
      "source": [
        "<a id='encoding'></a>\n",
        "\n",
        "---\n",
        "## **2. Encoding**\n",
        "Explain how you encode your data, so that the model is able to return meaningful predictions. If you use an encoding from an existing source, which we encourage, make sure to properly cite it. We also encourage you to prepare multiple different encodings and compare their results later."
      ]
    },
    {
      "cell_type": "markdown",
      "id": "180d0a69",
      "metadata": {
        "id": "180d0a69"
      },
      "source": [
        "..."
      ]
    },
    {
      "cell_type": "code",
      "execution_count": 3,
      "id": "8d1671e6-5d03-4023-9f50-eba79a342a2a",
      "metadata": {
        "colab": {
          "base_uri": "https://localhost:8080/"
        },
        "id": "8d1671e6-5d03-4023-9f50-eba79a342a2a",
        "outputId": "6af72c03-1991-4bb1-f845-31b29aee93d9"
      },
      "outputs": [
        {
          "output_type": "execute_result",
          "data": {
            "text/plain": [
              "0    [0.9507143064099162, 0.7319939418114051, 0.291...\n",
              "1    [0.21233911067827616, 0.5247564316322378, 0.86...\n",
              "2    [0.2912291401980419, 0.5247564316322378, 0.183...\n",
              "3    [0.3042422429595377, 0.5247564316322378, 0.181...\n",
              "4    [0.7319939418114051, 0.5247564316322378, 0.291...\n",
              "Name: sequence, dtype: object"
            ]
          },
          "metadata": {},
          "execution_count": 3
        }
      ],
      "source": [
        "# Create a LabelEncoder\n",
        "label_encoder = LabelEncoder()\n",
        "\n",
        "\n",
        "amino_acids = set(''.join(train_data['sequence']))\n",
        "label_encoder.fit(list(amino_acids))\n",
        "\n",
        "\n",
        "integer_encoded_sequences = train_data['sequence'].apply(list).apply(label_encoder.transform)\n",
        "\n",
        "\n",
        "integer_encoded_sequences.head()\n",
        "\n",
        "\n",
        "np.random.seed(42)\n",
        "random_encoding = {aa: np.random.rand() for aa in amino_acids}\n",
        "\n",
        "\n",
        "random_encoded_sequences = train_data['sequence'].apply(list).apply(lambda seq: [random_encoding[aa] for aa in seq])\n",
        "\n",
        "\n",
        "random_encoded_sequences.head()"
      ]
    },
    {
      "cell_type": "markdown",
      "id": "11c0f4ab-ef9b-4733-a625-b9545ca6b13f",
      "metadata": {
        "id": "11c0f4ab-ef9b-4733-a625-b9545ca6b13f"
      },
      "source": [
        "<a id='model'></a>\n",
        "\n",
        "---\n",
        "## **3. Machine Learning Model**\n",
        "Select at least one machine learning algorithm, which you'd like to apply your following tests on. Explain why you chose those algorithms. Note: It may be beneficial to set up multiple different models and test their performance for your task, even if you end up using only one at the end."
      ]
    },
    {
      "cell_type": "markdown",
      "id": "a363134c",
      "metadata": {
        "id": "a363134c"
      },
      "source": [
        "..."
      ]
    },
    {
      "cell_type": "code",
      "execution_count": 4,
      "id": "54172a90",
      "metadata": {
        "colab": {
          "base_uri": "https://localhost:8080/"
        },
        "id": "54172a90",
        "outputId": "786e806e-7a40-44a4-d119-e9da415714bc"
      },
      "outputs": [
        {
          "output_type": "stream",
          "name": "stdout",
          "text": [
            "              precision    recall  f1-score   support\n",
            "\n",
            "           0       0.64      0.63      0.63       100\n",
            "           1       0.63      0.64      0.64       100\n",
            "\n",
            "    accuracy                           0.64       200\n",
            "   macro avg       0.64      0.64      0.63       200\n",
            "weighted avg       0.64      0.64      0.63       200\n",
            "\n"
          ]
        }
      ],
      "source": [
        "#SVM\n",
        "\n",
        "class_0 = train_data[train_data['label'] == 0].sample(500)\n",
        "class_1 = train_data[train_data['label'] == 1].sample(500)\n",
        "balanced_data = pd.concat([class_0, class_1])\n",
        "\n",
        "\n",
        "integer_encoded_sequences_balanced = balanced_data['sequence'].apply(list).apply(label_encoder.transform)\n",
        "\n",
        "\n",
        "X_integer_encoded_balanced = np.array(integer_encoded_sequences_balanced.to_list())\n",
        "\n",
        "\n",
        "X_train, X_val, y_train, y_val = train_test_split(X_integer_encoded_balanced, balanced_data['label'], test_size=0.2, stratify=balanced_data['label'], random_state=42)\n",
        "\n",
        "# Initialize the SVM\n",
        "clf = svm.SVC()\n",
        "\n",
        "# Train the SVM\n",
        "clf.fit(X_train, y_train)\n",
        "\n",
        "\n",
        "y_pred = clf.predict(X_val)\n",
        "\n",
        "\n",
        "print(classification_report(y_val, y_pred))\n",
        "\n"
      ]
    },
    {
      "cell_type": "code",
      "execution_count": 5,
      "id": "65a9fd4c",
      "metadata": {
        "colab": {
          "base_uri": "https://localhost:8080/"
        },
        "id": "65a9fd4c",
        "outputId": "e62d8445-df23-45ef-f621-2b980e75144a"
      },
      "outputs": [
        {
          "output_type": "stream",
          "name": "stdout",
          "text": [
            "Epoch 1/10\n",
            "25/25 [==============================] - 1s 1ms/step - loss: 0.9811 - accuracy: 0.5150\n",
            "Epoch 2/10\n",
            "25/25 [==============================] - 0s 1ms/step - loss: 0.7955 - accuracy: 0.5263\n",
            "Epoch 3/10\n",
            "25/25 [==============================] - 0s 1ms/step - loss: 0.7324 - accuracy: 0.5375\n",
            "Epoch 4/10\n",
            "25/25 [==============================] - 0s 1ms/step - loss: 0.7235 - accuracy: 0.5700\n",
            "Epoch 5/10\n",
            "25/25 [==============================] - 0s 1ms/step - loss: 0.6926 - accuracy: 0.5775\n",
            "Epoch 6/10\n",
            "25/25 [==============================] - 0s 1ms/step - loss: 0.6888 - accuracy: 0.5625\n",
            "Epoch 7/10\n",
            "25/25 [==============================] - 0s 1ms/step - loss: 0.6771 - accuracy: 0.5825\n",
            "Epoch 8/10\n",
            "25/25 [==============================] - 0s 990us/step - loss: 0.6710 - accuracy: 0.5888\n",
            "Epoch 9/10\n",
            "25/25 [==============================] - 0s 1ms/step - loss: 0.6588 - accuracy: 0.6087\n",
            "Epoch 10/10\n",
            "25/25 [==============================] - 0s 1ms/step - loss: 0.6618 - accuracy: 0.6062\n",
            "7/7 [==============================] - 0s 1ms/step - loss: 0.7161 - accuracy: 0.5150\n",
            "Accuracy: 51.50\n"
          ]
        }
      ],
      "source": [
        "#ANN\n",
        "\n",
        "\n",
        "model = Sequential()\n",
        "model.add(Dense(64, input_dim=9, activation='relu'))  # Input layer\n",
        "model.add(Dense(1, activation='sigmoid'))  # Output layer\n",
        "\n",
        "\n",
        "model.compile(loss='binary_crossentropy', optimizer='adam', metrics=['accuracy'])\n",
        "\n",
        "\n",
        "model.fit(X_train, y_train, epochs=10, verbose=1)\n",
        "\n",
        "\n",
        "_, accuracy = model.evaluate(X_val, y_val, verbose=1)\n",
        "print('Accuracy: %.2f' % (accuracy*100))"
      ]
    },
    {
      "cell_type": "code",
      "execution_count": 6,
      "id": "0c5467f4",
      "metadata": {
        "colab": {
          "base_uri": "https://localhost:8080/"
        },
        "id": "0c5467f4",
        "outputId": "255a19d4-3e06-48fd-edae-11a7b7f74253"
      },
      "outputs": [
        {
          "output_type": "stream",
          "name": "stdout",
          "text": [
            "Random Forest Classifier performance:\n",
            "              precision    recall  f1-score   support\n",
            "\n",
            "           0       0.78      0.77      0.77       100\n",
            "           1       0.77      0.78      0.78       100\n",
            "\n",
            "    accuracy                           0.78       200\n",
            "   macro avg       0.78      0.78      0.77       200\n",
            "weighted avg       0.78      0.78      0.77       200\n",
            "\n"
          ]
        }
      ],
      "source": [
        "# Initialize the Random Forest Classifier\n",
        "rf = RandomForestClassifier(n_estimators=100, random_state=42)\n",
        "\n",
        "\n",
        "rf.fit(X_train, y_train)\n",
        "\n",
        "\n",
        "y_pred_rf = rf.predict(X_val)\n",
        "\n",
        "\n",
        "print(\"Random Forest Classifier performance:\")\n",
        "print(classification_report(y_val, y_pred_rf))"
      ]
    },
    {
      "cell_type": "code",
      "execution_count": 7,
      "id": "72f341a3",
      "metadata": {
        "colab": {
          "base_uri": "https://localhost:8080/"
        },
        "id": "72f341a3",
        "outputId": "11977338-8e28-4936-ab4a-2f26ddfe8ec9"
      },
      "outputs": [
        {
          "output_type": "stream",
          "name": "stdout",
          "text": [
            "Gradient Boosting Classifier performance:\n",
            "              precision    recall  f1-score   support\n",
            "\n",
            "           0       0.81      0.75      0.78       100\n",
            "           1       0.77      0.82      0.79       100\n",
            "\n",
            "    accuracy                           0.79       200\n",
            "   macro avg       0.79      0.78      0.78       200\n",
            "weighted avg       0.79      0.79      0.78       200\n",
            "\n"
          ]
        }
      ],
      "source": [
        "# Initialize the Gradient Boosting Classifier\n",
        "gb = GradientBoostingClassifier(n_estimators=100, random_state=42)\n",
        "\n",
        "\n",
        "gb.fit(X_train, y_train)\n",
        "\n",
        "\n",
        "y_pred_gb = gb.predict(X_val)\n",
        "\n",
        "\n",
        "print(\"Gradient Boosting Classifier performance:\")\n",
        "print(classification_report(y_val, y_pred_gb))\n"
      ]
    },
    {
      "cell_type": "code",
      "execution_count": 8,
      "id": "61b7f287",
      "metadata": {
        "colab": {
          "base_uri": "https://localhost:8080/"
        },
        "id": "61b7f287",
        "outputId": "066eb5da-d2ba-4475-b50e-a4a83de14583"
      },
      "outputs": [
        {
          "output_type": "stream",
          "name": "stdout",
          "text": [
            "Logistic Regression performance:\n",
            "              precision    recall  f1-score   support\n",
            "\n",
            "           0       0.55      0.58      0.57       100\n",
            "           1       0.56      0.53      0.54       100\n",
            "\n",
            "    accuracy                           0.56       200\n",
            "   macro avg       0.56      0.55      0.55       200\n",
            "weighted avg       0.56      0.56      0.55       200\n",
            "\n"
          ]
        }
      ],
      "source": [
        "# Initialize the Logistic Regression model\n",
        "lr = LogisticRegression(random_state=42)\n",
        "\n",
        "\n",
        "lr.fit(X_train, y_train)\n",
        "\n",
        "\n",
        "y_pred_lr = lr.predict(X_val)\n",
        "\n",
        "\n",
        "print(\"Logistic Regression performance:\")\n",
        "print(classification_report(y_val, y_pred_lr))"
      ]
    },
    {
      "cell_type": "code",
      "execution_count": 9,
      "id": "37c57466",
      "metadata": {
        "colab": {
          "base_uri": "https://localhost:8080/"
        },
        "id": "37c57466",
        "outputId": "0df74b38-c600-4708-9bb5-935a73d06fdd"
      },
      "outputs": [
        {
          "output_type": "stream",
          "name": "stdout",
          "text": [
            "K-Nearest Neighbors Classifier performance:\n",
            "              precision    recall  f1-score   support\n",
            "\n",
            "           0       0.61      0.59      0.60       100\n",
            "           1       0.61      0.63      0.62       100\n",
            "\n",
            "    accuracy                           0.61       200\n",
            "   macro avg       0.61      0.61      0.61       200\n",
            "weighted avg       0.61      0.61      0.61       200\n",
            "\n"
          ]
        }
      ],
      "source": [
        "# Initialize the K-Nearest Neighbors Classifier\n",
        "knn = KNeighborsClassifier(n_neighbors=5)\n",
        "\n",
        "\n",
        "knn.fit(X_train, y_train)\n",
        "\n",
        "\n",
        "y_pred_knn = knn.predict(X_val)\n",
        "\n",
        "\n",
        "print(\"K-Nearest Neighbors Classifier performance:\")\n",
        "print(classification_report(y_val, y_pred_knn))"
      ]
    },
    {
      "cell_type": "markdown",
      "id": "14526301-2964-4159-8ec3-cd31e7e390c4",
      "metadata": {
        "id": "14526301-2964-4159-8ec3-cd31e7e390c4"
      },
      "source": [
        "<a id='optimization'></a>\n",
        "\n",
        "---\n",
        "## **4. Optimization & Validation**\n",
        "Write a cross-validation pipeline, with suitable metrics to test the performance of your model. Then integrate the optimization of the parameters for your model(s). Explain why you decided to tune these hyperparameters with their specific values. For example: We learned in detail how specifying certain parameters in SVMs impact their training process, such as their kernel function or the value of the parameter $C$."
      ]
    },
    {
      "cell_type": "markdown",
      "id": "57b66fad",
      "metadata": {
        "id": "57b66fad"
      },
      "source": [
        "..."
      ]
    },
    {
      "cell_type": "code",
      "execution_count": 10,
      "id": "497057b2",
      "metadata": {
        "colab": {
          "base_uri": "https://localhost:8080/"
        },
        "id": "497057b2",
        "outputId": "66681c56-343a-4cca-ebba-a52b4a7b149a"
      },
      "outputs": [
        {
          "output_type": "stream",
          "name": "stdout",
          "text": [
            "Fitting 3 folds for each of 27 candidates, totalling 81 fits\n",
            "[CV] END ..learning_rate=0.01, max_depth=3, n_estimators=100; total time=   0.1s\n",
            "[CV] END ..learning_rate=0.01, max_depth=3, n_estimators=100; total time=   0.1s\n",
            "[CV] END ..learning_rate=0.01, max_depth=3, n_estimators=100; total time=   0.1s\n",
            "[CV] END ..learning_rate=0.01, max_depth=3, n_estimators=200; total time=   0.2s\n",
            "[CV] END ..learning_rate=0.01, max_depth=3, n_estimators=200; total time=   0.2s\n",
            "[CV] END ..learning_rate=0.01, max_depth=3, n_estimators=200; total time=   0.2s\n",
            "[CV] END ..learning_rate=0.01, max_depth=3, n_estimators=300; total time=   0.3s\n",
            "[CV] END ..learning_rate=0.01, max_depth=3, n_estimators=300; total time=   0.3s\n",
            "[CV] END ..learning_rate=0.01, max_depth=3, n_estimators=300; total time=   0.3s\n",
            "[CV] END ..learning_rate=0.01, max_depth=5, n_estimators=100; total time=   0.2s\n",
            "[CV] END ..learning_rate=0.01, max_depth=5, n_estimators=100; total time=   0.2s\n",
            "[CV] END ..learning_rate=0.01, max_depth=5, n_estimators=100; total time=   0.2s\n",
            "[CV] END ..learning_rate=0.01, max_depth=5, n_estimators=200; total time=   0.4s\n",
            "[CV] END ..learning_rate=0.01, max_depth=5, n_estimators=200; total time=   0.4s\n",
            "[CV] END ..learning_rate=0.01, max_depth=5, n_estimators=200; total time=   0.4s\n",
            "[CV] END ..learning_rate=0.01, max_depth=5, n_estimators=300; total time=   0.5s\n",
            "[CV] END ..learning_rate=0.01, max_depth=5, n_estimators=300; total time=   0.5s\n",
            "[CV] END ..learning_rate=0.01, max_depth=5, n_estimators=300; total time=   0.5s\n",
            "[CV] END ..learning_rate=0.01, max_depth=7, n_estimators=100; total time=   0.3s\n",
            "[CV] END ..learning_rate=0.01, max_depth=7, n_estimators=100; total time=   0.3s\n",
            "[CV] END ..learning_rate=0.01, max_depth=7, n_estimators=100; total time=   0.3s\n",
            "[CV] END ..learning_rate=0.01, max_depth=7, n_estimators=200; total time=   0.6s\n",
            "[CV] END ..learning_rate=0.01, max_depth=7, n_estimators=200; total time=   0.9s\n",
            "[CV] END ..learning_rate=0.01, max_depth=7, n_estimators=200; total time=   0.9s\n",
            "[CV] END ..learning_rate=0.01, max_depth=7, n_estimators=300; total time=   0.9s\n",
            "[CV] END ..learning_rate=0.01, max_depth=7, n_estimators=300; total time=   0.9s\n",
            "[CV] END ..learning_rate=0.01, max_depth=7, n_estimators=300; total time=   0.9s\n",
            "[CV] END ...learning_rate=0.1, max_depth=3, n_estimators=100; total time=   0.1s\n",
            "[CV] END ...learning_rate=0.1, max_depth=3, n_estimators=100; total time=   0.1s\n",
            "[CV] END ...learning_rate=0.1, max_depth=3, n_estimators=100; total time=   0.1s\n",
            "[CV] END ...learning_rate=0.1, max_depth=3, n_estimators=200; total time=   0.2s\n",
            "[CV] END ...learning_rate=0.1, max_depth=3, n_estimators=200; total time=   0.2s\n",
            "[CV] END ...learning_rate=0.1, max_depth=3, n_estimators=200; total time=   0.3s\n",
            "[CV] END ...learning_rate=0.1, max_depth=3, n_estimators=300; total time=   0.3s\n",
            "[CV] END ...learning_rate=0.1, max_depth=3, n_estimators=300; total time=   0.3s\n",
            "[CV] END ...learning_rate=0.1, max_depth=3, n_estimators=300; total time=   0.4s\n",
            "[CV] END ...learning_rate=0.1, max_depth=5, n_estimators=100; total time=   0.2s\n",
            "[CV] END ...learning_rate=0.1, max_depth=5, n_estimators=100; total time=   0.2s\n",
            "[CV] END ...learning_rate=0.1, max_depth=5, n_estimators=100; total time=   0.2s\n",
            "[CV] END ...learning_rate=0.1, max_depth=5, n_estimators=200; total time=   0.4s\n",
            "[CV] END ...learning_rate=0.1, max_depth=5, n_estimators=200; total time=   0.4s\n",
            "[CV] END ...learning_rate=0.1, max_depth=5, n_estimators=200; total time=   0.4s\n",
            "[CV] END ...learning_rate=0.1, max_depth=5, n_estimators=300; total time=   0.5s\n",
            "[CV] END ...learning_rate=0.1, max_depth=5, n_estimators=300; total time=   0.5s\n",
            "[CV] END ...learning_rate=0.1, max_depth=5, n_estimators=300; total time=   0.5s\n",
            "[CV] END ...learning_rate=0.1, max_depth=7, n_estimators=100; total time=   0.3s\n",
            "[CV] END ...learning_rate=0.1, max_depth=7, n_estimators=100; total time=   0.3s\n",
            "[CV] END ...learning_rate=0.1, max_depth=7, n_estimators=100; total time=   0.3s\n",
            "[CV] END ...learning_rate=0.1, max_depth=7, n_estimators=200; total time=   0.6s\n",
            "[CV] END ...learning_rate=0.1, max_depth=7, n_estimators=200; total time=   0.8s\n",
            "[CV] END ...learning_rate=0.1, max_depth=7, n_estimators=200; total time=   0.9s\n",
            "[CV] END ...learning_rate=0.1, max_depth=7, n_estimators=300; total time=   1.1s\n",
            "[CV] END ...learning_rate=0.1, max_depth=7, n_estimators=300; total time=   0.9s\n",
            "[CV] END ...learning_rate=0.1, max_depth=7, n_estimators=300; total time=   1.0s\n",
            "[CV] END .....learning_rate=1, max_depth=3, n_estimators=100; total time=   0.1s\n",
            "[CV] END .....learning_rate=1, max_depth=3, n_estimators=100; total time=   0.1s\n",
            "[CV] END .....learning_rate=1, max_depth=3, n_estimators=100; total time=   0.1s\n",
            "[CV] END .....learning_rate=1, max_depth=3, n_estimators=200; total time=   0.2s\n",
            "[CV] END .....learning_rate=1, max_depth=3, n_estimators=200; total time=   0.2s\n",
            "[CV] END .....learning_rate=1, max_depth=3, n_estimators=200; total time=   0.2s\n",
            "[CV] END .....learning_rate=1, max_depth=3, n_estimators=300; total time=   0.3s\n",
            "[CV] END .....learning_rate=1, max_depth=3, n_estimators=300; total time=   0.3s\n",
            "[CV] END .....learning_rate=1, max_depth=3, n_estimators=300; total time=   0.3s\n",
            "[CV] END .....learning_rate=1, max_depth=5, n_estimators=100; total time=   0.2s\n",
            "[CV] END .....learning_rate=1, max_depth=5, n_estimators=100; total time=   0.2s\n",
            "[CV] END .....learning_rate=1, max_depth=5, n_estimators=100; total time=   0.2s\n",
            "[CV] END .....learning_rate=1, max_depth=5, n_estimators=200; total time=   0.2s\n",
            "[CV] END .....learning_rate=1, max_depth=5, n_estimators=200; total time=   0.2s\n",
            "[CV] END .....learning_rate=1, max_depth=5, n_estimators=200; total time=   0.3s\n",
            "[CV] END .....learning_rate=1, max_depth=5, n_estimators=300; total time=   0.2s\n",
            "[CV] END .....learning_rate=1, max_depth=5, n_estimators=300; total time=   0.2s\n",
            "[CV] END .....learning_rate=1, max_depth=5, n_estimators=300; total time=   0.3s\n",
            "[CV] END .....learning_rate=1, max_depth=7, n_estimators=100; total time=   0.1s\n",
            "[CV] END .....learning_rate=1, max_depth=7, n_estimators=100; total time=   0.2s\n",
            "[CV] END .....learning_rate=1, max_depth=7, n_estimators=100; total time=   0.4s\n",
            "[CV] END .....learning_rate=1, max_depth=7, n_estimators=200; total time=   0.2s\n",
            "[CV] END .....learning_rate=1, max_depth=7, n_estimators=200; total time=   0.2s\n",
            "[CV] END .....learning_rate=1, max_depth=7, n_estimators=200; total time=   0.5s\n",
            "[CV] END .....learning_rate=1, max_depth=7, n_estimators=300; total time=   0.2s\n",
            "[CV] END .....learning_rate=1, max_depth=7, n_estimators=300; total time=   0.2s\n",
            "[CV] END .....learning_rate=1, max_depth=7, n_estimators=300; total time=   0.5s\n",
            "Best parameters found by grid search:\n",
            "{'learning_rate': 0.1, 'max_depth': 3, 'n_estimators': 300}\n"
          ]
        }
      ],
      "source": [
        "# Define the parameter grid\n",
        "param_grid_gb = {\n",
        "    'n_estimators': [100, 200, 300],\n",
        "    'learning_rate': [0.01, 0.1, 1],\n",
        "    'max_depth': [3, 5, 7]\n",
        "}\n",
        "\n",
        "# Initialize the GridSearchCV\n",
        "grid_gb = GridSearchCV(GradientBoostingClassifier(random_state=42), param_grid_gb, refit=True, verbose=2, cv=3)\n",
        "\n",
        "\n",
        "grid_gb.fit(X_train, y_train)\n",
        "\n",
        "\n",
        "print(\"Best parameters found by grid search:\")\n",
        "print(grid_gb.best_params_)\n",
        "\n"
      ]
    },
    {
      "cell_type": "code",
      "execution_count": 11,
      "id": "7f9a3e50",
      "metadata": {
        "colab": {
          "base_uri": "https://localhost:8080/"
        },
        "id": "7f9a3e50",
        "outputId": "ea61cf66-a265-4b36-c908-7a7806998044"
      },
      "outputs": [
        {
          "output_type": "stream",
          "name": "stdout",
          "text": [
            "Gradient Boosting Classifier performance with best parameters:\n",
            "              precision    recall  f1-score   support\n",
            "\n",
            "           0       0.79      0.71      0.75       100\n",
            "           1       0.74      0.81      0.77       100\n",
            "\n",
            "    accuracy                           0.76       200\n",
            "   macro avg       0.76      0.76      0.76       200\n",
            "weighted avg       0.76      0.76      0.76       200\n",
            "\n"
          ]
        }
      ],
      "source": [
        "#Now, let's use these parameters to train a Gradient Boosting Classifier and evaluate its performance on the validation set.\n",
        "\n",
        "\n",
        "gb_best = GradientBoostingClassifier(n_estimators=300, learning_rate=0.1, max_depth=3, random_state=42)\n",
        "\n",
        "\n",
        "gb_best.fit(X_train, y_train)\n",
        "\n",
        "\n",
        "y_pred_gb_best = gb_best.predict(X_val)\n",
        "\n",
        "\n",
        "print(\"Gradient Boosting Classifier performance with best parameters:\")\n",
        "print(classification_report(y_val, y_pred_gb_best))"
      ]
    },
    {
      "cell_type": "code",
      "execution_count": 12,
      "id": "1f1bc28a",
      "metadata": {
        "colab": {
          "base_uri": "https://localhost:8080/"
        },
        "id": "1f1bc28a",
        "outputId": "056e32ed-9e26-4af3-b799-86ec979a4654"
      },
      "outputs": [
        {
          "output_type": "stream",
          "name": "stdout",
          "text": [
            "Best parameters found by randomized search:\n",
            "{'n_estimators': 200, 'max_depth': 3, 'learning_rate': 0.2}\n"
          ]
        }
      ],
      "source": [
        "# using RandomizedSearchCV\n",
        "\n",
        "# Define the parameter grid\n",
        "param_distributions_gb = {\n",
        "    'n_estimators': [100, 200, 300, 500, 700],\n",
        "    'learning_rate': [0.01, 0.05, 0.1, 0.2, 0.3],\n",
        "    'max_depth': [3, 5, 7, 9, 11]\n",
        "}\n",
        "\n",
        "\n",
        "random_gb = RandomizedSearchCV(GradientBoostingClassifier(random_state=42), param_distributions_gb, n_iter=10, cv=3, random_state=42)\n",
        "\n",
        "\n",
        "random_gb.fit(X_train, y_train)\n",
        "\n",
        "\n",
        "print(\"Best parameters found by randomized search:\")\n",
        "print(random_gb.best_params_)"
      ]
    },
    {
      "cell_type": "code",
      "execution_count": 13,
      "id": "32c156e7",
      "metadata": {
        "colab": {
          "base_uri": "https://localhost:8080/"
        },
        "id": "32c156e7",
        "outputId": "60ec48ed-4ae7-4938-b0fe-1334b59d2cfc"
      },
      "outputs": [
        {
          "output_type": "stream",
          "name": "stdout",
          "text": [
            "Gradient Boosting Classifier performance with best parameters:\n",
            "              precision    recall  f1-score   support\n",
            "\n",
            "           0       0.77      0.70      0.73       100\n",
            "           1       0.72      0.79      0.76       100\n",
            "\n",
            "    accuracy                           0.74       200\n",
            "   macro avg       0.75      0.74      0.74       200\n",
            "weighted avg       0.75      0.74      0.74       200\n",
            "\n"
          ]
        }
      ],
      "source": [
        "# Initialize the Gradient Boosting Classifier with the best parameters\n",
        "gb_best = GradientBoostingClassifier(n_estimators=200, learning_rate=0.2, max_depth=3, random_state=42)\n",
        "\n",
        "\n",
        "gb_best.fit(X_train, y_train)\n",
        "\n",
        "\n",
        "y_pred_gb_best = gb_best.predict(X_val)\n",
        "\n",
        "\n",
        "print(\"Gradient Boosting Classifier performance with best parameters:\")\n",
        "print(classification_report(y_val, y_pred_gb_best))\n",
        "\n"
      ]
    },
    {
      "cell_type": "code",
      "execution_count": 20,
      "id": "5f095f15",
      "metadata": {
        "colab": {
          "base_uri": "https://localhost:8080/",
          "height": 564
        },
        "id": "5f095f15",
        "outputId": "9065b60b-ccfd-43df-afab-19001761d363"
      },
      "outputs": [
        {
          "output_type": "display_data",
          "data": {
            "text/plain": [
              "<Figure size 600x600 with 1 Axes>"
            ],
            "image/png": "[encoded data removed]"
          },
          "metadata": {}
        }
      ],
      "source": [
        "\n",
        "y_prob_gb_best = gb_best.predict_proba(X_val)[:, 1]\n",
        "\n",
        "\n",
        "fpr, tpr, _ = roc_curve(y_val, y_prob_gb_best)\n",
        "\n",
        "\n",
        "roc_auc = auc(fpr, tpr)\n",
        "\n",
        "# Plot the ROC curve\n",
        "plt.figure(figsize=(6, 6))\n",
        "plt.plot(fpr, tpr, color='darkorange', label='ROC curve (area = %0.2f)' % roc_auc)\n",
        "plt.plot([0, 1], [0, 1], color='navy', linestyle='--')\n",
        "plt.xlim([0.0, 1.0])\n",
        "plt.ylim([0.0, 1.05])\n",
        "plt.xlabel('False Positive Rate')\n",
        "plt.ylabel('True Positive Rate')\n",
        "plt.title('Receiver Operating Characteristic')\n",
        "plt.legend(loc=\"lower right\")\n",
        "plt.show()"
      ]
    },
    {
      "cell_type": "markdown",
      "id": "3cbee338-5f79-4d6b-9244-9992f8f22dee",
      "metadata": {
        "id": "3cbee338-5f79-4d6b-9244-9992f8f22dee"
      },
      "source": [
        "<a id='output'></a>\n",
        "\n",
        "---\n",
        "## **5. Output**\n",
        "The `predict` function below should contain a pipeline from a numpy array input of peptide sequences (`np.array` of `str`) to an `np.array` of predicted labels of `0` or `1`. In case you have been using `affinity` instead, make sure to set a suitable threshold for your prediction (output should be `0` or `1`). Therefore, the function should use your encoding, feed it into your model and output its result. You can test your function with the `test_sequences` below. The performance of your model will have a slight impact on your grading of your project as well (tested with a separate dataset). We will also release a ranking of all groups and their placement against each other.\n",
        "\n",
        "**NOTE:** Before the call of the `predict` function, your model should have been trained already. Please do not include the training of the model in it."
      ]
    },
    {
      "cell_type": "code",
      "execution_count": 21,
      "id": "83499079-ce7d-47e0-be39-3e314fd2d114",
      "metadata": {
        "id": "83499079-ce7d-47e0-be39-3e314fd2d114"
      },
      "outputs": [],
      "source": []
    },
    {
      "cell_type": "code",
      "execution_count": 22,
      "id": "294c202a",
      "metadata": {
        "id": "294c202a"
      },
      "outputs": [],
      "source": [
        "def predict_peptide_binding(peptide_sequences, model, label_encoder):\n",
        "\n",
        "    adjusted_sequences = np.array([adjust_sequence_length(seq) for seq in peptide_sequences])\n",
        "\n",
        "\n",
        "    integer_encoded_sequences = [label_encoder.transform(list(seq)) for seq in adjusted_sequences]\n",
        "\n",
        "\n",
        "    X = np.array(integer_encoded_sequences)\n",
        "\n",
        "    predictions = model.predict(X)\n",
        "\n",
        "    return predictions\n",
        "\n"
      ]
    },
    {
      "cell_type": "code",
      "execution_count": 23,
      "id": "4ee0a247",
      "metadata": {
        "colab": {
          "base_uri": "https://localhost:8080/"
        },
        "id": "4ee0a247",
        "outputId": "0eb46ae4-6fb2-4135-fde4-3868ab1f70b7"
      },
      "outputs": [
        {
          "output_type": "stream",
          "name": "stdout",
          "text": [
            "[0 1 0]\n"
          ]
        }
      ],
      "source": [
        "test_sequences = np.array([\"ACDEFGHIK\", \"KLMNPQRST\", \"VVVVVVVVV\"])\n",
        "predictions = predict_peptide_binding(test_sequences, gb_best, label_encoder)\n",
        "print(predictions)"
      ]
    },
    {
      "cell_type": "code",
      "execution_count": 25,
      "id": "d89db4e8",
      "metadata": {
        "colab": {
          "base_uri": "https://localhost:8080/"
        },
        "id": "d89db4e8",
        "outputId": "257a659e-c9f6-4a98-bf2a-264b7ef3b309"
      },
      "outputs": [
        {
          "output_type": "execute_result",
          "data": {
            "text/plain": [
              "array([0, 1, 0, 0, 0, 0])"
            ]
          },
          "metadata": {},
          "execution_count": 25
        }
      ],
      "source": [
        "# Load the second csv file\n",
        "test_data = pd.read_csv('ci_project_test_sample.csv')\n",
        "\n",
        "test_sequences = test_data['sequence'].values\n",
        "predictions = predict_peptide_binding(test_sequences, gb_best, label_encoder)\n",
        "\n",
        "predictions"
      ]
    },
    {
      "cell_type": "code",
      "execution_count": null,
      "id": "9a64c927-bc68-487e-8509-daafd927d95f",
      "metadata": {
        "id": "9a64c927-bc68-487e-8509-daafd927d95f",
        "outputId": "0264e064-d166-4729-ee94-4fd9cf794bf2"
      },
      "outputs": [
        {
          "name": "stdout",
          "output_type": "stream",
          "text": [
            "Help on function predict in module __main__:\n",
            "\n",
            "predict(classifier: object, sequences: <built-in function array>) -> <built-in function array>\n",
            "    Predicts the binder label for a numpy array of sequences (0 for non-binder, 1 for binder).\n",
            "    \n",
            "            Parameters:\n",
            "                    classifier (object): your classifier\n",
            "                    sequences (np.array): Sequences array\n",
            "    \n",
            "            Returns:\n",
            "                    A numpy array containing the binary decisions of all sequences\n",
            "\n"
          ]
        },
        {
          "data": {
            "text/plain": [
              "array([1, 0, 1, 0, 1, 1])"
            ]
          },
          "execution_count": 17,
          "metadata": {},
          "output_type": "execute_result"
        }
      ],
      "source": [
        "#def predict(classifier: object, sequences: np.array) -> np.array:\n",
        "    '''\n",
        "    Predicts the binder label for a numpy array of sequences (0 for non-binder, 1 for binder).\n",
        "\n",
        "            Parameters:\n",
        "                    classifier (object): your classifier\n",
        "                    sequences (np.array): Sequences array\n",
        "\n",
        "            Returns:\n",
        "                    A numpy array containing the binary decisions of all sequences\n",
        "    '''\n",
        "\n",
        "    #return np.random.randint(0, 2, len(sequences))  # TODO: replace this with your model's prediction\n",
        "\n",
        "\n",
        "#help(predict)\n",
        "#predict(object, test_sequences)"
      ]
    },
    {
      "cell_type": "markdown",
      "id": "f5afeae2-ae26-4a9d-a9bb-2e05ad70875a",
      "metadata": {
        "id": "f5afeae2-ae26-4a9d-a9bb-2e05ad70875a"
      },
      "source": [
        "<a id='presentation'></a>\n",
        "\n",
        "---\n",
        "---\n",
        "# **7. Presentation - Thursday the 27th of July**\n",
        "After handing in your project, you have one week to prepare a short 7-10min presentation (we'll have to stop you at 10 minutes). The presentations will be held by all groups on Thursday the 27th of July during the lecture."
      ]
    }
  ],
  "metadata": {
    "kernelspec": {
      "display_name": "Python 3 (ipykernel)",
      "language": "python",
      "name": "python3"
    },
    "language_info": {
      "codemirror_mode": {
        "name": "ipython",
        "version": 3
      },
      "file_extension": ".py",
      "mimetype": "text/x-python",
      "name": "python",
      "nbconvert_exporter": "python",
      "pygments_lexer": "ipython3",
      "version": "3.11.2"
    },
    "colab": {
      "provenance": []
    }
  },
  "nbformat": 4,
  "nbformat_minor": 5
}